{
 "cells": [
  {
   "cell_type": "code",
   "execution_count": 146,
   "id": "1968a32f-2973-4047-8683-2b8fbf8723eb",
   "metadata": {},
   "outputs": [],
   "source": [
    "import pandas as pd\n",
    "df = pd.read_csv('/Users/evelynhuang22/projects/salary_prediction/Salary_Data.csv')\n"
   ]
  },
  {
   "cell_type": "code",
   "execution_count": 148,
   "id": "eba9cfd0-bd26-44cd-bc1e-0be6097deab0",
   "metadata": {},
   "outputs": [],
   "source": [
    "#remvoe rows where Salary is null\n",
    "df = df[df[['Salary']].notna().all(axis=1)]\n",
    "\n",
    "\n"
   ]
  },
  {
   "cell_type": "code",
   "execution_count": 150,
   "id": "e83552a0-e703-411a-ad83-24cc26bd161e",
   "metadata": {},
   "outputs": [
    {
     "name": "stdout",
     "output_type": "stream",
     "text": [
      "['Male' 'Female' 'Other']\n",
      "[\"Bachelor's\" \"Master's\" 'PhD' \"Bachelor's Degree\" \"Master's Degree\" nan\n",
      " 'High School' 'phD']\n",
      "['Software Engineer' 'Data Analyst' 'Senior Manager' 'Sales Associate'\n",
      " 'Director' 'Marketing Analyst' 'Product Manager' 'Sales Manager'\n",
      " 'Marketing Coordinator' 'Senior Scientist' 'Software Developer'\n",
      " 'HR Manager' 'Financial Analyst' 'Project Manager' 'Customer Service Rep'\n",
      " 'Operations Manager' 'Marketing Manager' 'Senior Engineer'\n",
      " 'Data Entry Clerk' 'Sales Director' 'Business Analyst' 'VP of Operations'\n",
      " 'IT Support' 'Recruiter' 'Financial Manager' 'Social Media Specialist'\n",
      " 'Software Manager' 'Junior Developer' 'Senior Consultant'\n",
      " 'Product Designer' 'CEO' 'Accountant' 'Data Scientist'\n",
      " 'Marketing Specialist' 'Technical Writer' 'HR Generalist'\n",
      " 'Project Engineer' 'Customer Success Rep' 'Sales Executive' 'UX Designer'\n",
      " 'Operations Director' 'Network Engineer' 'Administrative Assistant'\n",
      " 'Strategy Consultant' 'Copywriter' 'Account Manager'\n",
      " 'Director of Marketing' 'Help Desk Analyst' 'Customer Service Manager'\n",
      " 'Business Intelligence Analyst' 'Event Coordinator' 'VP of Finance'\n",
      " 'Graphic Designer' 'UX Researcher' 'Social Media Manager'\n",
      " 'Director of Operations' 'Senior Data Scientist' 'Junior Accountant'\n",
      " 'Digital Marketing Manager' 'IT Manager'\n",
      " 'Customer Service Representative' 'Business Development Manager'\n",
      " 'Senior Financial Analyst' 'Web Developer' 'Research Director'\n",
      " 'Technical Support Specialist' 'Creative Director'\n",
      " 'Senior Software Engineer' 'Human Resources Director'\n",
      " 'Content Marketing Manager' 'Technical Recruiter' 'Sales Representative'\n",
      " 'Chief Technology Officer' 'Junior Designer' 'Financial Advisor'\n",
      " 'Junior Account Manager' 'Senior Project Manager' 'Principal Scientist'\n",
      " 'Supply Chain Manager' 'Senior Marketing Manager' 'Training Specialist'\n",
      " 'Research Scientist' 'Junior Software Developer'\n",
      " 'Public Relations Manager' 'Operations Analyst'\n",
      " 'Product Marketing Manager' 'Senior HR Manager' 'Junior Web Developer'\n",
      " 'Senior Project Coordinator' 'Chief Data Officer'\n",
      " 'Digital Content Producer' 'IT Support Specialist'\n",
      " 'Senior Marketing Analyst' 'Customer Success Manager'\n",
      " 'Senior Graphic Designer' 'Software Project Manager'\n",
      " 'Supply Chain Analyst' 'Senior Business Analyst'\n",
      " 'Junior Marketing Analyst' 'Office Manager' 'Principal Engineer'\n",
      " 'Junior HR Generalist' 'Senior Product Manager'\n",
      " 'Junior Operations Analyst' 'Senior HR Generalist'\n",
      " 'Sales Operations Manager' 'Senior Software Developer'\n",
      " 'Junior Web Designer' 'Senior Training Specialist'\n",
      " 'Senior Research Scientist' 'Junior Sales Representative'\n",
      " 'Junior Marketing Manager' 'Junior Data Analyst'\n",
      " 'Senior Product Marketing Manager' 'Junior Business Analyst'\n",
      " 'Senior Sales Manager' 'Junior Marketing Specialist'\n",
      " 'Junior Project Manager' 'Senior Accountant' 'Director of Sales'\n",
      " 'Junior Recruiter' 'Senior Business Development Manager'\n",
      " 'Senior Product Designer' 'Junior Customer Support Specialist'\n",
      " 'Senior IT Support Specialist' 'Junior Financial Analyst'\n",
      " 'Senior Operations Manager' 'Director of Human Resources'\n",
      " 'Junior Software Engineer' 'Senior Sales Representative'\n",
      " 'Director of Product Management' 'Junior Copywriter'\n",
      " 'Senior Marketing Coordinator' 'Senior Human Resources Manager'\n",
      " 'Junior Business Development Associate' 'Senior Account Manager'\n",
      " 'Senior Researcher' 'Junior HR Coordinator' 'Director of Finance'\n",
      " 'Junior Marketing Coordinator' 'Junior Data Scientist'\n",
      " 'Senior Operations Analyst' 'Senior Human Resources Coordinator'\n",
      " 'Senior UX Designer' 'Junior Product Manager'\n",
      " 'Senior Marketing Specialist' 'Senior IT Project Manager'\n",
      " 'Senior Quality Assurance Analyst' 'Director of Sales and Marketing'\n",
      " 'Senior Account Executive' 'Director of Business Development'\n",
      " 'Junior Social Media Manager' 'Senior Human Resources Specialist'\n",
      " 'Senior Data Analyst' 'Director of Human Capital'\n",
      " 'Junior Advertising Coordinator' 'Junior UX Designer'\n",
      " 'Senior Marketing Director' 'Senior IT Consultant'\n",
      " 'Senior Financial Advisor' 'Junior Business Operations Analyst'\n",
      " 'Junior Social Media Specialist' 'Senior Product Development Manager'\n",
      " 'Junior Operations Manager' 'Senior Software Architect'\n",
      " 'Junior Research Scientist' 'Senior Financial Manager'\n",
      " 'Senior HR Specialist' 'Senior Data Engineer'\n",
      " 'Junior Operations Coordinator' 'Director of HR'\n",
      " 'Senior Operations Coordinator' 'Junior Financial Advisor'\n",
      " 'Director of Engineering' 'Software Engineer Manager'\n",
      " 'Back end Developer' 'Senior Project Engineer' 'Full Stack Engineer'\n",
      " 'Front end Developer' 'Developer' 'Front End Developer'\n",
      " 'Director of Data Science' 'Human Resources Coordinator'\n",
      " 'Junior Sales Associate' 'Human Resources Manager'\n",
      " 'Juniour HR Generalist' 'Juniour HR Coordinator'\n",
      " 'Digital Marketing Specialist' 'Receptionist' 'Marketing Director'\n",
      " 'Social Media Man' 'Delivery Driver']\n"
     ]
    }
   ],
   "source": [
    "#types of Gender\n",
    "unique_gen = df['Gender'].unique()\n",
    "print(unique_gen)\n",
    "\n",
    "#types of Education Level\n",
    "unique_edu = df['Education Level'].unique()\n",
    "print(unique_edu)\n",
    "\n",
    "#types of Job Title\n",
    "unique_jobs = df['Job Title'].unique()\n",
    "print(unique_jobs)"
   ]
  },
  {
   "cell_type": "code",
   "execution_count": 152,
   "id": "f07fde9d-af07-4205-9006-e8a4cd36d9ec",
   "metadata": {},
   "outputs": [],
   "source": [
    "#keys\n",
    "#gender\n",
    "gender_map = {\n",
    "    'Male': 'GEN1',\n",
    "    'Female': 'GEN2',\n",
    "    'Other': 'GEN3'\n",
    "}\n",
    "df['Gender'] = df['Gender'].map(gender_map)\n",
    "\n"
   ]
  },
  {
   "cell_type": "code",
   "execution_count": 154,
   "id": "e1bc4a82-0a4c-40d1-9170-f88d95bd7c88",
   "metadata": {},
   "outputs": [
    {
     "name": "stdout",
     "output_type": "stream",
     "text": [
      "['GEN1' 'GEN2' 'GEN3']\n"
     ]
    }
   ],
   "source": [
    "final_gen = df['Gender'].unique()\n",
    "print(final_gen)\n"
   ]
  },
  {
   "cell_type": "code",
   "execution_count": 156,
   "id": "9110689d-73c9-4866-9f18-660594324d6b",
   "metadata": {},
   "outputs": [],
   "source": [
    "#keys\n",
    "#Education level\n",
    "#[\"Bachelor's\" \"Master's\" 'PhD' \"Bachelor's Degree\" \"Master's Degree\" nan'High School' 'phD']\n",
    "\n",
    "df['Education Level'] = df['Education Level'].str.lower()\n",
    "\n",
    "edu_map = {         \n",
    "    'high school': 'EDU01',\n",
    "    \"bachelor's\": 'EDU02',\n",
    "    \"bachelor's degree\": 'EDU02',\n",
    "    \"master's\": 'EDU03',\n",
    "    \"master's degree\": 'EDU03',\n",
    "    'phd': 'EDU04',          \n",
    "}\n",
    "df['Education Level'] = df['Education Level'].map(edu_map)\n"
   ]
  },
  {
   "cell_type": "code",
   "execution_count": 158,
   "id": "6f3eb80c-3b79-415a-9f3b-b0bab12ded2c",
   "metadata": {},
   "outputs": [
    {
     "name": "stdout",
     "output_type": "stream",
     "text": [
      "['EDU02' 'EDU03' 'EDU04' nan 'EDU01']\n"
     ]
    }
   ],
   "source": [
    "final_edu = df['Education Level'].unique()\n",
    "print(final_edu)"
   ]
  },
  {
   "cell_type": "code",
   "execution_count": 160,
   "id": "a8c1d5f1-771c-4309-91a6-282e655c5bb1",
   "metadata": {},
   "outputs": [],
   "source": [
    "#keys\n",
    "#job title\n",
    "unique_jobs = df['Job Title'].dropna().unique()\n",
    "job_map = {job: f'JOB{str(i+1).zfill(3)}' for i, job in enumerate(unique_jobs)}\n",
    "df['Job Title'] = df['Job Title'].map(job_map)\n"
   ]
  },
  {
   "cell_type": "code",
   "execution_count": 162,
   "id": "075f0cb7-4e22-4f5b-8c81-2780c9ca4300",
   "metadata": {},
   "outputs": [
    {
     "name": "stdout",
     "output_type": "stream",
     "text": [
      "['JOB001' 'JOB002' 'JOB003' 'JOB004' 'JOB005' 'JOB006' 'JOB007' 'JOB008'\n",
      " 'JOB009' 'JOB010' 'JOB011' 'JOB012' 'JOB013' 'JOB014' 'JOB015' 'JOB016'\n",
      " 'JOB017' 'JOB018' 'JOB019' 'JOB020' 'JOB021' 'JOB022' 'JOB023' 'JOB024'\n",
      " 'JOB025' 'JOB026' 'JOB027' 'JOB028' 'JOB029' 'JOB030' 'JOB031' 'JOB032'\n",
      " 'JOB033' 'JOB034' 'JOB035' 'JOB036' 'JOB037' 'JOB038' 'JOB039' 'JOB040'\n",
      " 'JOB041' 'JOB042' 'JOB043' 'JOB044' 'JOB045' 'JOB046' 'JOB047' 'JOB048'\n",
      " 'JOB049' 'JOB050' 'JOB051' 'JOB052' 'JOB053' 'JOB054' 'JOB055' 'JOB056'\n",
      " 'JOB057' 'JOB058' 'JOB059' 'JOB060' 'JOB061' 'JOB062' 'JOB063' 'JOB064'\n",
      " 'JOB065' 'JOB066' 'JOB067' 'JOB068' 'JOB069' 'JOB070' 'JOB071' 'JOB072'\n",
      " 'JOB073' 'JOB074' 'JOB075' 'JOB076' 'JOB077' 'JOB078' 'JOB079' 'JOB080'\n",
      " 'JOB081' 'JOB082' 'JOB083' 'JOB084' 'JOB085' 'JOB086' 'JOB087' 'JOB088'\n",
      " 'JOB089' 'JOB090' 'JOB091' 'JOB092' 'JOB093' 'JOB094' 'JOB095' 'JOB096'\n",
      " 'JOB097' 'JOB098' 'JOB099' 'JOB100' 'JOB101' 'JOB102' 'JOB103' 'JOB104'\n",
      " 'JOB105' 'JOB106' 'JOB107' 'JOB108' 'JOB109' 'JOB110' 'JOB111' 'JOB112'\n",
      " 'JOB113' 'JOB114' 'JOB115' 'JOB116' 'JOB117' 'JOB118' 'JOB119' 'JOB120'\n",
      " 'JOB121' 'JOB122' 'JOB123' 'JOB124' 'JOB125' 'JOB126' 'JOB127' 'JOB128'\n",
      " 'JOB129' 'JOB130' 'JOB131' 'JOB132' 'JOB133' 'JOB134' 'JOB135' 'JOB136'\n",
      " 'JOB137' 'JOB138' 'JOB139' 'JOB140' 'JOB141' 'JOB142' 'JOB143' 'JOB144'\n",
      " 'JOB145' 'JOB146' 'JOB147' 'JOB148' 'JOB149' 'JOB150' 'JOB151' 'JOB152'\n",
      " 'JOB153' 'JOB154' 'JOB155' 'JOB156' 'JOB157' 'JOB158' 'JOB159' 'JOB160'\n",
      " 'JOB161' 'JOB162' 'JOB163' 'JOB164' 'JOB165' 'JOB166' 'JOB167' 'JOB168'\n",
      " 'JOB169' 'JOB170' 'JOB171' 'JOB172' 'JOB173' 'JOB174' 'JOB175' 'JOB176'\n",
      " 'JOB177' 'JOB178' 'JOB179' 'JOB180' 'JOB181' 'JOB182' 'JOB183' 'JOB184'\n",
      " 'JOB185' 'JOB186' 'JOB187' 'JOB188' 'JOB189' 'JOB190' 'JOB191' 'JOB192']\n"
     ]
    }
   ],
   "source": [
    "final_job = df['Job Title'].unique()\n",
    "print(final_job)\n"
   ]
  },
  {
   "cell_type": "code",
   "execution_count": null,
   "id": "04b80129-f5fa-461c-a62b-694bed505b00",
   "metadata": {},
   "outputs": [],
   "source": [
    "\n"
   ]
  },
  {
   "cell_type": "code",
   "execution_count": 3,
   "id": "b2a8e416-20b0-47bf-8d5e-46bb1c23b627",
   "metadata": {},
   "outputs": [
    {
     "name": "stdout",
     "output_type": "stream",
     "text": [
      "Error: ('28000', \"[28000] [Microsoft][ODBC Driver 17 for SQL Server][SQL Server]Login failed for user 'evelynhuang22'. (18456) (SQLDriverConnect)\")\n"
     ]
    }
   ],
   "source": [
    "import pyodbc\n",
    "\n",
    "#conn_str = (\n",
    "    #'DRIVER={ODBC Driver 17 for SQL Server};'\n",
    "    #'SERVER=evelynhuang22;'\n",
    "    #'DATABASE=salary_prediction;'\n",
    "    #'UID=evelynhuang22;'\n",
    "    #'PWD=Shitthings22')\n",
    "\n",
    "\n",
    "import pyodbc\n",
    "\n",
    "conn_str = 'DRIVER={ODBC Driver 17 for SQL Server};SERVER=localhost;DATABASE=salary_prediction;UID=evelynhuang22;PWD=Shitthings22'\n",
    "try:\n",
    "    conn = pyodbc.connect(conn_str)\n",
    "    cursor = conn.cursor()\n",
    "    print(\"Connection established!\")\n",
    "except Exception as e:\n",
    "    print(f\"Error: {e}\")\n"
   ]
  },
  {
   "cell_type": "code",
   "execution_count": 9,
   "id": "b68eca51-820b-4965-89d8-28751b5a80b0",
   "metadata": {},
   "outputs": [
    {
     "name": "stdout",
     "output_type": "stream",
     "text": [
      "('Microsoft Azure SQL Edge Developer (RTM) - 16.0.5100.7245 (X64) \\n\\tJun 13 2023 12:34:33 \\n\\tCopyright (C) 2022 Microsoft Corporation\\n\\tLinux (Ubuntu 20.04.6 LTS) <X64>',)\n"
     ]
    }
   ],
   "source": [
    "\n",
    "import pyodbc\n",
    "\n",
    "conn = pyodbc.connect(\n",
    "    'DRIVER={ODBC Driver 17 for SQL Server};'\n",
    "    'SERVER=localhost;'\n",
    "    'DATABASE=master;'  \n",
    "    'UID=SA;'\n",
    "    'PWD=MyStrongPass123;'\n",
    ")\n",
    "\n",
    "cursor = conn.cursor()\n",
    "cursor.execute(\"SELECT @@VERSION;\")\n",
    "row = cursor.fetchone()\n",
    "print(row)\n"
   ]
  },
  {
   "cell_type": "code",
   "execution_count": 11,
   "id": "5f310545-68f1-4a6a-bc3e-4a8195a43e93",
   "metadata": {},
   "outputs": [
    {
     "ename": "ProgrammingError",
     "evalue": "('42000', '[42000] [Microsoft][ODBC Driver 17 for SQL Server][SQL Server]CREATE DATABASE statement not allowed within multi-statement transaction. (226) (SQLExecDirectW)')",
     "output_type": "error",
     "traceback": [
      "\u001b[0;31m---------------------------------------------------------------------------\u001b[0m",
      "\u001b[0;31mProgrammingError\u001b[0m                          Traceback (most recent call last)",
      "Cell \u001b[0;32mIn[11], line 1\u001b[0m\n\u001b[0;32m----> 1\u001b[0m cursor\u001b[38;5;241m.\u001b[39mexecute(\u001b[38;5;124m\"\u001b[39m\u001b[38;5;124mCREATE DATABASE salary_prediction;\u001b[39m\u001b[38;5;124m\"\u001b[39m)\n\u001b[1;32m      2\u001b[0m conn\u001b[38;5;241m.\u001b[39mcommit()\n\u001b[1;32m      3\u001b[0m \u001b[38;5;28mprint\u001b[39m(\u001b[38;5;124m\"\u001b[39m\u001b[38;5;124mDB created\u001b[39m\u001b[38;5;124m\"\u001b[39m)\n",
      "\u001b[0;31mProgrammingError\u001b[0m: ('42000', '[42000] [Microsoft][ODBC Driver 17 for SQL Server][SQL Server]CREATE DATABASE statement not allowed within multi-statement transaction. (226) (SQLExecDirectW)')"
     ]
    }
   ],
   "source": [
    "cursor.execute(\"CREATE DATABASE salary_prediction;\")\n",
    "conn.commit()\n",
    "print(\"DB created\")\n",
    "\n"
   ]
  },
  {
   "cell_type": "code",
   "execution_count": null,
   "id": "c4851fa6-42ca-45e8-8822-5e548d31fefc",
   "metadata": {},
   "outputs": [],
   "source": [
    "\n",
    "cursor.execute(\"USE salary_prediction;\")"
   ]
  },
  {
   "cell_type": "code",
   "execution_count": 13,
   "id": "27bcf20b-01c7-4a3a-b812-d8601a641d97",
   "metadata": {},
   "outputs": [
    {
     "ename": "ProgrammingError",
     "evalue": "('42000', \"[42000] [Microsoft][ODBC Driver 17 for SQL Server][SQL Server]Could not obtain exclusive lock on database 'model'. Retry the operation later. (1807) (SQLExecDirectW)\")",
     "output_type": "error",
     "traceback": [
      "\u001b[0;31m---------------------------------------------------------------------------\u001b[0m",
      "\u001b[0;31mProgrammingError\u001b[0m                          Traceback (most recent call last)",
      "Cell \u001b[0;32mIn[13], line 13\u001b[0m\n\u001b[1;32m      3\u001b[0m conn \u001b[38;5;241m=\u001b[39m pyodbc\u001b[38;5;241m.\u001b[39mconnect(\n\u001b[1;32m      4\u001b[0m     \u001b[38;5;124m'\u001b[39m\u001b[38;5;124mDRIVER=\u001b[39m\u001b[38;5;124m{\u001b[39m\u001b[38;5;124mODBC Driver 17 for SQL Server};\u001b[39m\u001b[38;5;124m'\u001b[39m\n\u001b[1;32m      5\u001b[0m     \u001b[38;5;124m'\u001b[39m\u001b[38;5;124mSERVER=localhost;\u001b[39m\u001b[38;5;124m'\u001b[39m\n\u001b[0;32m   (...)\u001b[0m\n\u001b[1;32m      9\u001b[0m     autocommit\u001b[38;5;241m=\u001b[39m\u001b[38;5;28;01mTrue\u001b[39;00m  \u001b[38;5;66;03m# THIS is the magic 🪄\u001b[39;00m\n\u001b[1;32m     10\u001b[0m )\n\u001b[1;32m     12\u001b[0m cursor \u001b[38;5;241m=\u001b[39m conn\u001b[38;5;241m.\u001b[39mcursor()\n\u001b[0;32m---> 13\u001b[0m cursor\u001b[38;5;241m.\u001b[39mexecute(\u001b[38;5;124m\"\u001b[39m\u001b[38;5;124mCREATE DATABASE salary_prediction;\u001b[39m\u001b[38;5;124m\"\u001b[39m)\n\u001b[1;32m     14\u001b[0m \u001b[38;5;28mprint\u001b[39m(\u001b[38;5;124m\"\u001b[39m\u001b[38;5;124mDB created 🥹📦\u001b[39m\u001b[38;5;124m\"\u001b[39m)\n",
      "\u001b[0;31mProgrammingError\u001b[0m: ('42000', \"[42000] [Microsoft][ODBC Driver 17 for SQL Server][SQL Server]Could not obtain exclusive lock on database 'model'. Retry the operation later. (1807) (SQLExecDirectW)\")"
     ]
    }
   ],
   "source": [
    "import pyodbc\n",
    "\n",
    "conn = pyodbc.connect(\n",
    "    'DRIVER={ODBC Driver 17 for SQL Server};'\n",
    "    'SERVER=localhost;'\n",
    "    'DATABASE=master;'  \n",
    "    'UID=SA;'\n",
    "    'PWD=MyStrongPass123;',\n",
    "    autocommit=True  \n",
    ")\n",
    "\n",
    "cursor = conn.cursor()\n",
    "cursor.execute(\"CREATE DATABASE salary_prediction;\")\n",
    "print(\"DB created 🥹📦\")\n"
   ]
  }
 ],
 "metadata": {
  "kernelspec": {
   "display_name": "Python 3 (ipykernel)",
   "language": "python",
   "name": "python3"
  },
  "language_info": {
   "codemirror_mode": {
    "name": "ipython",
    "version": 3
   },
   "file_extension": ".py",
   "mimetype": "text/x-python",
   "name": "python",
   "nbconvert_exporter": "python",
   "pygments_lexer": "ipython3",
   "version": "3.12.4"
  }
 },
 "nbformat": 4,
 "nbformat_minor": 5
}
