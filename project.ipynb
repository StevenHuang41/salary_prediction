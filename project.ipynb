{
 "cells": [
  {
   "cell_type": "code",
   "execution_count": null,
   "id": "7e924da0-518e-4e49-8de4-ae4455aab0da",
   "metadata": {},
   "outputs": [],
   "source": [
    "import pandas as pd\n",
    "df = pd.read_csv('/Users/evelynhuang22/projects/salary_prediction/Salary_Data.csv')"
   ]
  },
  {
   "cell_type": "code",
   "execution_count": null,
   "id": "8b79b88c-b888-4c3a-8376-e0f315c64784",
   "metadata": {},
   "outputs": [],
   "source": [
    "#remvoe rows where Salary is NaN\n",
    "df = df[df[['Salary']].notna().all(axis=1)]\n",
    "\n",
    "#remove rows where all six columns are NaN \n",
    "#df = df.drop([172, 260])\n"
   ]
  },
  {
   "cell_type": "code",
   "execution_count": null,
   "id": "989c2318-eb90-4e9b-9b79-719bb194b9a3",
   "metadata": {},
   "outputs": [],
   "source": [
    "#types of Gender\n",
    "unique_gen = df['Gender'].unique()\n",
    "print(unique_gen)\n",
    "\n",
    "#types of Education Level\n",
    "unique_edu = df['Education Level'].unique()\n",
    "print(unique_edu)\n",
    "\n",
    "#types of Job Title\n",
    "unique_jobs = df['Job Title'].unique()\n",
    "print(unique_jobs)"
   ]
  },
  {
   "cell_type": "code",
   "execution_count": null,
   "id": "9a56e7ee-1220-46e2-bfca-024114412159",
   "metadata": {},
   "outputs": [],
   "source": [
    "#keys\n",
    "#gender\n",
    "gender_map = {\n",
    "    'Male': 'GEN1',\n",
    "    'Female': 'GEN2',\n",
    "    'Other': 'GEN3'\n",
    "}\n",
    "df['Gender'] = df['Gender'].map(gender_map)\n",
    "\n"
   ]
  },
  {
   "cell_type": "code",
   "execution_count": null,
   "id": "4474d83e-302f-4cbf-a285-80f404e9f610",
   "metadata": {},
   "outputs": [],
   "source": [
    "final_gen = df['Gender'].unique()\n",
    "print(final_gen)\n"
   ]
  },
  {
   "cell_type": "code",
   "execution_count": null,
   "id": "605ea44b-df81-4638-a24e-c0e14d44f312",
   "metadata": {},
   "outputs": [],
   "source": [
    "#keys\n",
    "#Education level\n",
    "#[\"Bachelor's\" \"Master's\" 'PhD' \"Bachelor's Degree\" \"Master's Degree\" nan'High School' 'phD']\n",
    "\n",
    "df['Education Level'] = df['Education Level'].str.lower()\n",
    "\n",
    "edu_map = {         \n",
    "    'high school': 'EDU01',\n",
    "    \"bachelor's\": 'EDU02',\n",
    "    \"bachelor's degree\": 'EDU02',\n",
    "    \"master's\": 'EDU03',\n",
    "    \"master's degree\": 'EDU03',\n",
    "    'phd': 'EDU04',          \n",
    "}\n",
    "df['Education Level'] = df['Education Level'].map(edu_map)\n"
   ]
  },
  {
   "cell_type": "code",
   "execution_count": null,
   "id": "7eb3a809-e4b0-4bc1-b732-c8b7a828a006",
   "metadata": {},
   "outputs": [],
   "source": [
    "final_edu = df['Education Level'].unique()\n",
    "print(final_edu)"
   ]
  },
  {
   "cell_type": "code",
   "execution_count": null,
   "id": "168625df-a0cd-44bc-b553-aca54b555b82",
   "metadata": {},
   "outputs": [],
   "source": [
    "#keys\n",
    "#job title\n",
    "unique_jobs = df['Job Title'].dropna().unique()\n",
    "job_map = {job: f'JOB{str(i+1).zfill(3)}' for i, job in enumerate(unique_jobs)}\n",
    "df['Job Title'] = df['Job Title'].map(job_map)\n"
   ]
  },
  {
   "cell_type": "code",
   "execution_count": null,
   "id": "e773bd03-ae0f-419c-8067-370c38f0ca4d",
   "metadata": {},
   "outputs": [],
   "source": []
  }
 ],
 "metadata": {
  "kernelspec": {
   "display_name": "Python 3 (ipykernel)",
   "language": "python",
   "name": "python3"
  },
  "language_info": {
   "codemirror_mode": {
    "name": "ipython",
    "version": 3
   },
   "file_extension": ".py",
   "mimetype": "text/x-python",
   "name": "python",
   "nbconvert_exporter": "python",
   "pygments_lexer": "ipython3",
   "version": "3.12.4"
  }
 },
 "nbformat": 4,
 "nbformat_minor": 5
}
